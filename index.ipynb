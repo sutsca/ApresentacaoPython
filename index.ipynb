{
  "cells": [
    {
      "cell_type": "raw",
      "metadata": {},
      "source": [
        "---\n",
        "title: Apresentação explicando o código de TMB\n",
        "author: Beatriz Salles and Rafaely Reis\n",
        "slideNumber: 5\n",
        "format: revealjs\n",
        "transition: slide\n",
        "---"
      ],
      "id": "5294b694"
    },
    {
      "cell_type": "markdown",
      "metadata": {},
      "source": [
        "# Calculadora de TMB: Explicação do Código"
      ],
      "id": "a6f052d5"
    },
    {
      "cell_type": "markdown",
      "metadata": {},
      "source": [
        "---\n",
        "\n",
        "## Função `calcular_tmb`\n"
      ],
      "id": "ac619153"
    },
    {
      "cell_type": "code",
      "metadata": {},
      "source": [
        "def calcular_tmb(peso, altura, idade, sexo):\n",
        "    if sexo == \"masculino\":\n",
        "        tmb = 66 + (13.7 * peso) + (5 * altura) - (6.8 * idade)\n",
        "    elif sexo == \"feminino\":\n",
        "        tmb = 665 + (9.6 * peso) + (1.8 * altura) - (4.7 * idade)\n",
        "    else:\n",
        "        tmb = None\n",
        "        print(\"Sexo não reconhecido.\")\n",
        "    return tmb"
      ],
      "id": "67e0b136",
      "execution_count": null,
      "outputs": []
    },
    {
      "cell_type": "raw",
      "metadata": {},
      "source": [
        "A função calcular_tmb calcula a Taxa de Metabolismo Basal (TMB) usando a equação de Harris-Benedict.\n",
        "\n",
        "---"
      ],
      "id": "7a28ccac"
    },
    {
      "cell_type": "markdown",
      "metadata": {},
      "source": [
        "## Função `calcular_macronutrientes`\n"
      ],
      "id": "ace3b95e"
    },
    {
      "cell_type": "code",
      "metadata": {},
      "source": [
        " def calcular_macronutrientes(peso):\n",
        "    prot = 2 * peso \n",
        "    carb = 3 * peso\n",
        "    gord = 0.5 * peso\n",
        "    return prot, carb, gord"
      ],
      "id": "476d2730",
      "execution_count": null,
      "outputs": []
    },
    {
      "cell_type": "markdown",
      "metadata": {},
      "source": [
        "A função calcular_macronutrientes calcula a quantidade de proteína, carboidratos e gorduras em gramas com base no peso do usuário."
      ],
      "id": "b2a3f4ae"
    },
    {
      "cell_type": "markdown",
      "metadata": {},
      "source": [
        "---\n",
        "\n",
        "## Função `calcular_gasto_calorico`\n"
      ],
      "id": "f1f7a0bb"
    },
    {
      "cell_type": "code",
      "metadata": {},
      "source": [
        "def calcular_gasto_calorico(exercicio, peso, tempo):\n",
        "    if exercicio == 1:\n",
        "        return 3.5 * peso * tempo\n",
        "    elif exercicio == 2:\n",
        "        return 6 * peso * tempo\n",
        "    elif exercicio == 3:\n",
        "        print(\"Saindo do programa!\")\n",
        "        sys.exit()\n",
        "    else:\n",
        "        print(\"Exercício não reconhecido.\")\n",
        "        return None"
      ],
      "id": "b2ce5d56",
      "execution_count": null,
      "outputs": []
    },
    {
      "cell_type": "raw",
      "metadata": {},
      "source": [
        "A função calcular_gasto_calorico calcula o gasto calórico com base no tipo de exercício, peso do usuário e tempo de prática.\n",
        "\n",
        "\n",
        "---"
      ],
      "id": "16323f55"
    },
    {
      "cell_type": "markdown",
      "metadata": {},
      "source": [
        "## Função `main`\n"
      ],
      "id": "ad83e3e4"
    },
    {
      "cell_type": "code",
      "metadata": {},
      "source": [
        "def main():\n",
        "    # Captura de dados do usuário\n",
        "    peso = float(input(\"Digite seu peso (em kg): \"))\n",
        "    altura = float(input(\"Digite sua altura (em centimetros): \"))\n",
        "    idade = float(input(\"Digite sua idade: \"))\n",
        "    sexo = input(\"Digite seu sexo (masculino/feminino): \").lower()\n",
        "\n",
        "    # Cálculo da TMB\n",
        "    tmb = calcular_tmb(peso, altura, idade, sexo)\n",
        "\n",
        "    if tmb is not None:\n",
        "        # Exibição da TMB\n",
        "        print(f\"Sua taxa de metabolismo basal é {tmb:.2f} calorias.\")\n",
        "\n",
        "        # Cálculo de macronutrientes\n",
        "        prot, carb, gord = calcular_macronutrientes(peso)\n",
        "        print(f\"Para atender suas necessidades diárias, consuma {prot:.2f}g de proteína, {carb:.2f}g de carboidratos e {gord:.2f}g de gordura.\")\n",
        "\n",
        "        # Captura de dados de exercício\n",
        "        print(\"Digite o número do exercício que você pratica:\")\n",
        "        print(\"1 - Musculação média\")\n",
        "        print(\"2 - Musculação alta\")\n",
        "        print(\"3 - Não pratico nenhum desses exercícios / Sair\")\n",
        "        exercicio = int(input(\"Digite o numero do exercício desejado: \"))\n",
        "        tempo = float(input(\"Por quanto tempo você pratica essa atividade em horas: \"))\n",
        "        gasto_calorico = calcular_gasto_calorico(exercicio, peso, tempo)\n",
        "\n",
        "        # Exibição do gasto calórico\n",
        "        if gasto_calorico is not None:\n",
        "            if exercicio == 1:\n",
        "                print(f\"Durante {tempo} horas de Musculação média, você queimou {gasto_calorico:.2f} calorias.\")\n",
        "            elif exercicio == 2:\n",
        "                print(f\"Durante {tempo} horas de Musculação alta, você queimou {gasto_calorico:.2f} calorias.\")\n",
        "        else:\n",
        "            print(\"Exercício não reconhecido.\")\n",
        "    else:\n",
        "        print(\"Não foi possível calcular a TMB. Verifique os dados fornecidos.\")\n",
        "\n",
        "if __name__ == \"__main__\":\n",
        "    main()"
      ],
      "id": "22af93dd",
      "execution_count": null,
      "outputs": []
    }
  ],
  "metadata": {
    "kernelspec": {
      "display_name": "Python 3",
      "language": "python",
      "name": "python3"
    }
  },
  "nbformat": 4,
  "nbformat_minor": 5
}